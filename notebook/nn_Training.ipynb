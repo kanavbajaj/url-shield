{
 "cells": [
  {
   "cell_type": "code",
   "execution_count": 2,
   "id": "9e485a66",
   "metadata": {},
   "outputs": [
    {
     "name": "stdout",
     "output_type": "stream",
     "text": [
      "2.18.0\n"
     ]
    }
   ],
   "source": [
    "import tensorflow as tf\n",
    "print(tf.__version__)\n"
   ]
  },
  {
   "cell_type": "code",
   "execution_count": 3,
   "metadata": {},
   "outputs": [],
   "source": [
    "import os\n",
    "import pandas as pd\n",
    "import tensorflow as ts\n",
    "import numpy as np\n",
    "from sklearn.preprocessing import LabelEncoder\n",
    "from tensorflow.keras.utils import to_categorical\n",
    "from sklearn.model_selection import train_test_split\n",
    "from sklearn.metrics import accuracy_score,f1_score,precision_score,recall_score\n",
    "from sklearn.preprocessing import MinMaxScaler\n",
    "from tensorflow.keras.utils import to_categorical\n",
    "\n",
    "from keras import backend as K\n",
    "import pickle"
   ]
  },
  {
   "cell_type": "code",
   "execution_count": 4,
   "metadata": {},
   "outputs": [],
   "source": [
    "\n",
    "os.chdir(\"C:/Users/Kanav/Documents/urlclassifier/FinalDataset\")"
   ]
  },
  {
   "cell_type": "code",
   "execution_count": 5,
   "metadata": {},
   "outputs": [],
   "source": [
    "data = pd.read_csv(\"feature.csv\")"
   ]
  },
  {
   "cell_type": "code",
   "execution_count": 6,
   "metadata": {},
   "outputs": [
    {
     "data": {
      "text/html": [
       "<div>\n",
       "<style scoped>\n",
       "    .dataframe tbody tr th:only-of-type {\n",
       "        vertical-align: middle;\n",
       "    }\n",
       "\n",
       "    .dataframe tbody tr th {\n",
       "        vertical-align: top;\n",
       "    }\n",
       "\n",
       "    .dataframe thead th {\n",
       "        text-align: right;\n",
       "    }\n",
       "</style>\n",
       "<table border=\"1\" class=\"dataframe\">\n",
       "  <thead>\n",
       "    <tr style=\"text-align: right;\">\n",
       "      <th></th>\n",
       "      <th>Unnamed: 0</th>\n",
       "      <th>File</th>\n",
       "      <th>bodyLength</th>\n",
       "      <th>bscr</th>\n",
       "      <th>dse</th>\n",
       "      <th>dsr</th>\n",
       "      <th>entropy</th>\n",
       "      <th>hasHttp</th>\n",
       "      <th>hasHttps</th>\n",
       "      <th>has_ip</th>\n",
       "      <th>...</th>\n",
       "      <th>numParams</th>\n",
       "      <th>numTitles</th>\n",
       "      <th>num_%20</th>\n",
       "      <th>num_@</th>\n",
       "      <th>sbr</th>\n",
       "      <th>scriptLength</th>\n",
       "      <th>specialChars</th>\n",
       "      <th>sscr</th>\n",
       "      <th>urlIsLive</th>\n",
       "      <th>urlLength</th>\n",
       "    </tr>\n",
       "  </thead>\n",
       "  <tbody>\n",
       "    <tr>\n",
       "      <th>0</th>\n",
       "      <td>0</td>\n",
       "      <td>spam_dataset</td>\n",
       "      <td>31</td>\n",
       "      <td>0.064516</td>\n",
       "      <td>0</td>\n",
       "      <td>0</td>\n",
       "      <td>-4.708307</td>\n",
       "      <td>True</td>\n",
       "      <td>False</td>\n",
       "      <td>0</td>\n",
       "      <td>...</td>\n",
       "      <td>0</td>\n",
       "      <td>0</td>\n",
       "      <td>0</td>\n",
       "      <td>0</td>\n",
       "      <td>0.000000</td>\n",
       "      <td>0</td>\n",
       "      <td>2</td>\n",
       "      <td>0.000000</td>\n",
       "      <td>False</td>\n",
       "      <td>81</td>\n",
       "    </tr>\n",
       "    <tr>\n",
       "      <th>1</th>\n",
       "      <td>1</td>\n",
       "      <td>spam_dataset</td>\n",
       "      <td>64790</td>\n",
       "      <td>0.306050</td>\n",
       "      <td>0</td>\n",
       "      <td>0</td>\n",
       "      <td>-4.576882</td>\n",
       "      <td>True</td>\n",
       "      <td>False</td>\n",
       "      <td>0</td>\n",
       "      <td>...</td>\n",
       "      <td>0</td>\n",
       "      <td>19</td>\n",
       "      <td>0</td>\n",
       "      <td>0</td>\n",
       "      <td>0.923800</td>\n",
       "      <td>59853</td>\n",
       "      <td>19829</td>\n",
       "      <td>3.018458</td>\n",
       "      <td>False</td>\n",
       "      <td>58</td>\n",
       "    </tr>\n",
       "    <tr>\n",
       "      <th>2</th>\n",
       "      <td>2</td>\n",
       "      <td>spam_dataset</td>\n",
       "      <td>757</td>\n",
       "      <td>0.195509</td>\n",
       "      <td>0</td>\n",
       "      <td>0</td>\n",
       "      <td>-4.205536</td>\n",
       "      <td>True</td>\n",
       "      <td>False</td>\n",
       "      <td>0</td>\n",
       "      <td>...</td>\n",
       "      <td>0</td>\n",
       "      <td>1</td>\n",
       "      <td>0</td>\n",
       "      <td>0</td>\n",
       "      <td>0.000000</td>\n",
       "      <td>0</td>\n",
       "      <td>148</td>\n",
       "      <td>0.000000</td>\n",
       "      <td>False</td>\n",
       "      <td>46</td>\n",
       "    </tr>\n",
       "    <tr>\n",
       "      <th>3</th>\n",
       "      <td>3</td>\n",
       "      <td>spam_dataset</td>\n",
       "      <td>266310</td>\n",
       "      <td>0.230915</td>\n",
       "      <td>0</td>\n",
       "      <td>0</td>\n",
       "      <td>-4.550931</td>\n",
       "      <td>True</td>\n",
       "      <td>False</td>\n",
       "      <td>0</td>\n",
       "      <td>...</td>\n",
       "      <td>0</td>\n",
       "      <td>648</td>\n",
       "      <td>0</td>\n",
       "      <td>0</td>\n",
       "      <td>0.312647</td>\n",
       "      <td>83261</td>\n",
       "      <td>61495</td>\n",
       "      <td>1.353947</td>\n",
       "      <td>False</td>\n",
       "      <td>52</td>\n",
       "    </tr>\n",
       "    <tr>\n",
       "      <th>4</th>\n",
       "      <td>4</td>\n",
       "      <td>spam_dataset</td>\n",
       "      <td>40</td>\n",
       "      <td>0.200000</td>\n",
       "      <td>0</td>\n",
       "      <td>0</td>\n",
       "      <td>-4.689336</td>\n",
       "      <td>True</td>\n",
       "      <td>False</td>\n",
       "      <td>0</td>\n",
       "      <td>...</td>\n",
       "      <td>2</td>\n",
       "      <td>1</td>\n",
       "      <td>0</td>\n",
       "      <td>0</td>\n",
       "      <td>0.000000</td>\n",
       "      <td>0</td>\n",
       "      <td>8</td>\n",
       "      <td>0.000000</td>\n",
       "      <td>False</td>\n",
       "      <td>83</td>\n",
       "    </tr>\n",
       "  </tbody>\n",
       "</table>\n",
       "<p>5 rows × 23 columns</p>\n",
       "</div>"
      ],
      "text/plain": [
       "   Unnamed: 0          File  bodyLength      bscr  dse  dsr   entropy  \\\n",
       "0           0  spam_dataset          31  0.064516    0    0 -4.708307   \n",
       "1           1  spam_dataset       64790  0.306050    0    0 -4.576882   \n",
       "2           2  spam_dataset         757  0.195509    0    0 -4.205536   \n",
       "3           3  spam_dataset      266310  0.230915    0    0 -4.550931   \n",
       "4           4  spam_dataset          40  0.200000    0    0 -4.689336   \n",
       "\n",
       "   hasHttp  hasHttps  has_ip  ...  numParams  numTitles  num_%20  num_@  \\\n",
       "0     True     False       0  ...          0          0        0      0   \n",
       "1     True     False       0  ...          0         19        0      0   \n",
       "2     True     False       0  ...          0          1        0      0   \n",
       "3     True     False       0  ...          0        648        0      0   \n",
       "4     True     False       0  ...          2          1        0      0   \n",
       "\n",
       "        sbr  scriptLength  specialChars      sscr  urlIsLive  urlLength  \n",
       "0  0.000000             0             2  0.000000      False         81  \n",
       "1  0.923800         59853         19829  3.018458      False         58  \n",
       "2  0.000000             0           148  0.000000      False         46  \n",
       "3  0.312647         83261         61495  1.353947      False         52  \n",
       "4  0.000000             0             8  0.000000      False         83  \n",
       "\n",
       "[5 rows x 23 columns]"
      ]
     },
     "execution_count": 6,
     "metadata": {},
     "output_type": "execute_result"
    }
   ],
   "source": [
    "data.head()"
   ]
  },
  {
   "cell_type": "code",
   "execution_count": 7,
   "metadata": {},
   "outputs": [
    {
     "data": {
      "text/plain": [
       "{'Benign_list_big_final',\n",
       " 'Defacement',\n",
       " 'Malware_dataset',\n",
       " 'phishing_dataset',\n",
       " 'spam_dataset'}"
      ]
     },
     "execution_count": 7,
     "metadata": {},
     "output_type": "execute_result"
    }
   ],
   "source": [
    "set(data['File'])"
   ]
  },
  {
   "cell_type": "code",
   "execution_count": 8,
   "metadata": {},
   "outputs": [],
   "source": [
    "data.replace(\"Benign_list_big_final\",\"Benign\",inplace=True)\n",
    "data.replace(\"Malware_dataset\",\"Malware\",inplace=True)\n",
    "data.replace(\"phishing_dataset\",\"Phishing\",inplace=True)\n",
    "data.replace(\"spam_dataset\",\"Spam\",inplace=True)"
   ]
  },
  {
   "cell_type": "code",
   "execution_count": 9,
   "metadata": {},
   "outputs": [
    {
     "name": "stderr",
     "output_type": "stream",
     "text": [
      "C:\\Users\\Kanav\\AppData\\Local\\Temp\\ipykernel_15328\\387194231.py:3: FutureWarning: Downcasting behavior in `replace` is deprecated and will be removed in a future version. To retain the old behavior, explicitly call `result.infer_objects(copy=False)`. To opt-in to the future behavior, set `pd.set_option('future.no_silent_downcasting', True)`\n",
      "  data.replace(False,0,inplace = True)\n"
     ]
    }
   ],
   "source": [
    "data.drop(columns='Unnamed: 0',inplace=True)\n",
    "data.replace(True,1,inplace = True)\n",
    "data.replace(False,0,inplace = True)\n",
    "y = data[\"File\"]"
   ]
  },
  {
   "cell_type": "code",
   "execution_count": 10,
   "metadata": {},
   "outputs": [],
   "source": [
    "data = data.drop(columns = \"File\")"
   ]
  },
  {
   "cell_type": "code",
   "execution_count": 11,
   "metadata": {},
   "outputs": [],
   "source": [
    "encoder = LabelEncoder()\n",
    "encoder.fit(y)\n",
    "Y = encoder.transform(y)"
   ]
  },
  {
   "cell_type": "code",
   "execution_count": 12,
   "metadata": {},
   "outputs": [],
   "source": [
    "scaler = MinMaxScaler(feature_range=(0, 1))\n",
    "X = scaler.fit_transform(data)\n",
    "X = pd.DataFrame(X)"
   ]
  },
  {
   "cell_type": "code",
   "execution_count": 13,
   "metadata": {},
   "outputs": [
    {
     "name": "stderr",
     "output_type": "stream",
     "text": [
      "c:\\Users\\Kanav\\Documents\\urlclassifier\\.venv\\Lib\\site-packages\\keras\\src\\layers\\core\\dense.py:87: UserWarning: Do not pass an `input_shape`/`input_dim` argument to a layer. When using Sequential models, prefer using an `Input(shape)` object as the first layer in the model instead.\n",
      "  super().__init__(activity_regularizer=activity_regularizer, **kwargs)\n"
     ]
    }
   ],
   "source": [
    "from keras.models import Sequential\n",
    "from keras.layers import LSTM, Dense, Dropout, Masking, Embedding\n",
    "\n",
    "input_dim = len(data.columns)\n",
    "model = Sequential()\n",
    "model.add(Dense(256, input_dim = input_dim , activation = 'relu'))\n",
    "model.add(Dense(128, activation = 'relu'))\n",
    "model.add(Dense(64, activation = 'relu'))\n",
    "model.add(Dense(32, activation = 'relu'))\n",
    "model.add(Dense(16, activation = 'relu'))\n",
    "model.add(Dense(5, activation = 'softmax'))\n",
    "\n",
    "model.compile(loss = 'categorical_crossentropy' , optimizer = 'adam' , metrics = ['accuracy'] )"
   ]
  },
  {
   "cell_type": "code",
   "execution_count": 14,
   "metadata": {},
   "outputs": [],
   "source": [
    "X_train, X_test, y_train, y_test = train_test_split(X, Y, test_size=0.25, random_state=42)"
   ]
  },
  {
   "cell_type": "code",
   "execution_count": 15,
   "metadata": {},
   "outputs": [
    {
     "name": "stdout",
     "output_type": "stream",
     "text": [
      "Epoch 1/50\n",
      "\u001b[1m224/224\u001b[0m \u001b[32m━━━━━━━━━━━━━━━━━━━━\u001b[0m\u001b[37m\u001b[0m \u001b[1m2s\u001b[0m 4ms/step - accuracy: 0.3582 - loss: 1.4405 - val_accuracy: 0.5834 - val_loss: 1.0231\n",
      "Epoch 2/50\n",
      "\u001b[1m224/224\u001b[0m \u001b[32m━━━━━━━━━━━━━━━━━━━━\u001b[0m\u001b[37m\u001b[0m \u001b[1m1s\u001b[0m 3ms/step - accuracy: 0.6082 - loss: 0.9724 - val_accuracy: 0.6518 - val_loss: 0.8733\n",
      "Epoch 3/50\n",
      "\u001b[1m224/224\u001b[0m \u001b[32m━━━━━━━━━━━━━━━━━━━━\u001b[0m\u001b[37m\u001b[0m \u001b[1m1s\u001b[0m 3ms/step - accuracy: 0.6567 - loss: 0.8641 - val_accuracy: 0.6742 - val_loss: 0.8217\n",
      "Epoch 4/50\n",
      "\u001b[1m224/224\u001b[0m \u001b[32m━━━━━━━━━━━━━━━━━━━━\u001b[0m\u001b[37m\u001b[0m \u001b[1m1s\u001b[0m 3ms/step - accuracy: 0.6786 - loss: 0.8132 - val_accuracy: 0.6951 - val_loss: 0.7572\n",
      "Epoch 5/50\n",
      "\u001b[1m224/224\u001b[0m \u001b[32m━━━━━━━━━━━━━━━━━━━━\u001b[0m\u001b[37m\u001b[0m \u001b[1m1s\u001b[0m 2ms/step - accuracy: 0.6961 - loss: 0.7665 - val_accuracy: 0.7165 - val_loss: 0.7085\n",
      "Epoch 6/50\n",
      "\u001b[1m224/224\u001b[0m \u001b[32m━━━━━━━━━━━━━━━━━━━━\u001b[0m\u001b[37m\u001b[0m \u001b[1m1s\u001b[0m 2ms/step - accuracy: 0.7185 - loss: 0.7087 - val_accuracy: 0.7267 - val_loss: 0.6929\n",
      "Epoch 7/50\n",
      "\u001b[1m224/224\u001b[0m \u001b[32m━━━━━━━━━━━━━━━━━━━━\u001b[0m\u001b[37m\u001b[0m \u001b[1m1s\u001b[0m 2ms/step - accuracy: 0.7323 - loss: 0.6758 - val_accuracy: 0.7161 - val_loss: 0.6951\n",
      "Epoch 8/50\n",
      "\u001b[1m224/224\u001b[0m \u001b[32m━━━━━━━━━━━━━━━━━━━━\u001b[0m\u001b[37m\u001b[0m \u001b[1m0s\u001b[0m 2ms/step - accuracy: 0.7396 - loss: 0.6620 - val_accuracy: 0.7566 - val_loss: 0.6218\n",
      "Epoch 9/50\n",
      "\u001b[1m224/224\u001b[0m \u001b[32m━━━━━━━━━━━━━━━━━━━━\u001b[0m\u001b[37m\u001b[0m \u001b[1m1s\u001b[0m 2ms/step - accuracy: 0.7573 - loss: 0.6183 - val_accuracy: 0.7526 - val_loss: 0.6350\n",
      "Epoch 10/50\n",
      "\u001b[1m224/224\u001b[0m \u001b[32m━━━━━━━━━━━━━━━━━━━━\u001b[0m\u001b[37m\u001b[0m \u001b[1m1s\u001b[0m 3ms/step - accuracy: 0.7616 - loss: 0.6131 - val_accuracy: 0.7648 - val_loss: 0.6051\n",
      "Epoch 11/50\n",
      "\u001b[1m224/224\u001b[0m \u001b[32m━━━━━━━━━━━━━━━━━━━━\u001b[0m\u001b[37m\u001b[0m \u001b[1m1s\u001b[0m 3ms/step - accuracy: 0.7704 - loss: 0.5968 - val_accuracy: 0.7777 - val_loss: 0.5774\n",
      "Epoch 12/50\n",
      "\u001b[1m224/224\u001b[0m \u001b[32m━━━━━━━━━━━━━━━━━━━━\u001b[0m\u001b[37m\u001b[0m \u001b[1m1s\u001b[0m 2ms/step - accuracy: 0.7741 - loss: 0.5817 - val_accuracy: 0.7793 - val_loss: 0.5668\n",
      "Epoch 13/50\n",
      "\u001b[1m224/224\u001b[0m \u001b[32m━━━━━━━━━━━━━━━━━━━━\u001b[0m\u001b[37m\u001b[0m \u001b[1m1s\u001b[0m 2ms/step - accuracy: 0.7760 - loss: 0.5680 - val_accuracy: 0.7892 - val_loss: 0.5565\n",
      "Epoch 14/50\n",
      "\u001b[1m224/224\u001b[0m \u001b[32m━━━━━━━━━━━━━━━━━━━━\u001b[0m\u001b[37m\u001b[0m \u001b[1m1s\u001b[0m 2ms/step - accuracy: 0.7829 - loss: 0.5621 - val_accuracy: 0.7756 - val_loss: 0.5698\n",
      "Epoch 15/50\n",
      "\u001b[1m224/224\u001b[0m \u001b[32m━━━━━━━━━━━━━━━━━━━━\u001b[0m\u001b[37m\u001b[0m \u001b[1m1s\u001b[0m 2ms/step - accuracy: 0.7895 - loss: 0.5438 - val_accuracy: 0.7719 - val_loss: 0.5692\n",
      "Epoch 16/50\n",
      "\u001b[1m224/224\u001b[0m \u001b[32m━━━━━━━━━━━━━━━━━━━━\u001b[0m\u001b[37m\u001b[0m \u001b[1m1s\u001b[0m 2ms/step - accuracy: 0.7880 - loss: 0.5448 - val_accuracy: 0.7847 - val_loss: 0.5720\n",
      "Epoch 17/50\n",
      "\u001b[1m224/224\u001b[0m \u001b[32m━━━━━━━━━━━━━━━━━━━━\u001b[0m\u001b[37m\u001b[0m \u001b[1m1s\u001b[0m 2ms/step - accuracy: 0.7961 - loss: 0.5267 - val_accuracy: 0.7851 - val_loss: 0.5420\n",
      "Epoch 18/50\n",
      "\u001b[1m224/224\u001b[0m \u001b[32m━━━━━━━━━━━━━━━━━━━━\u001b[0m\u001b[37m\u001b[0m \u001b[1m1s\u001b[0m 2ms/step - accuracy: 0.7942 - loss: 0.5347 - val_accuracy: 0.7770 - val_loss: 0.5559\n",
      "Epoch 19/50\n",
      "\u001b[1m224/224\u001b[0m \u001b[32m━━━━━━━━━━━━━━━━━━━━\u001b[0m\u001b[37m\u001b[0m \u001b[1m1s\u001b[0m 2ms/step - accuracy: 0.7960 - loss: 0.5234 - val_accuracy: 0.7896 - val_loss: 0.5313\n",
      "Epoch 20/50\n",
      "\u001b[1m224/224\u001b[0m \u001b[32m━━━━━━━━━━━━━━━━━━━━\u001b[0m\u001b[37m\u001b[0m \u001b[1m1s\u001b[0m 2ms/step - accuracy: 0.8076 - loss: 0.5016 - val_accuracy: 0.7842 - val_loss: 0.5664\n",
      "Epoch 21/50\n",
      "\u001b[1m224/224\u001b[0m \u001b[32m━━━━━━━━━━━━━━━━━━━━\u001b[0m\u001b[37m\u001b[0m \u001b[1m0s\u001b[0m 2ms/step - accuracy: 0.8012 - loss: 0.5143 - val_accuracy: 0.7829 - val_loss: 0.5431\n",
      "Epoch 22/50\n",
      "\u001b[1m224/224\u001b[0m \u001b[32m━━━━━━━━━━━━━━━━━━━━\u001b[0m\u001b[37m\u001b[0m \u001b[1m1s\u001b[0m 2ms/step - accuracy: 0.8023 - loss: 0.5050 - val_accuracy: 0.7996 - val_loss: 0.5101\n",
      "Epoch 23/50\n",
      "\u001b[1m224/224\u001b[0m \u001b[32m━━━━━━━━━━━━━━━━━━━━\u001b[0m\u001b[37m\u001b[0m \u001b[1m1s\u001b[0m 2ms/step - accuracy: 0.8076 - loss: 0.4885 - val_accuracy: 0.8130 - val_loss: 0.4981\n",
      "Epoch 24/50\n",
      "\u001b[1m224/224\u001b[0m \u001b[32m━━━━━━━━━━━━━━━━━━━━\u001b[0m\u001b[37m\u001b[0m \u001b[1m1s\u001b[0m 2ms/step - accuracy: 0.8203 - loss: 0.4719 - val_accuracy: 0.8139 - val_loss: 0.5033\n",
      "Epoch 25/50\n",
      "\u001b[1m224/224\u001b[0m \u001b[32m━━━━━━━━━━━━━━━━━━━━\u001b[0m\u001b[37m\u001b[0m \u001b[1m1s\u001b[0m 2ms/step - accuracy: 0.8169 - loss: 0.4734 - val_accuracy: 0.8084 - val_loss: 0.5190\n",
      "Epoch 26/50\n",
      "\u001b[1m224/224\u001b[0m \u001b[32m━━━━━━━━━━━━━━━━━━━━\u001b[0m\u001b[37m\u001b[0m \u001b[1m1s\u001b[0m 2ms/step - accuracy: 0.8095 - loss: 0.4851 - val_accuracy: 0.8004 - val_loss: 0.5051\n",
      "Epoch 27/50\n",
      "\u001b[1m224/224\u001b[0m \u001b[32m━━━━━━━━━━━━━━━━━━━━\u001b[0m\u001b[37m\u001b[0m \u001b[1m1s\u001b[0m 2ms/step - accuracy: 0.8197 - loss: 0.4599 - val_accuracy: 0.8029 - val_loss: 0.5096\n",
      "Epoch 28/50\n",
      "\u001b[1m224/224\u001b[0m \u001b[32m━━━━━━━━━━━━━━━━━━━━\u001b[0m\u001b[37m\u001b[0m \u001b[1m0s\u001b[0m 2ms/step - accuracy: 0.8195 - loss: 0.4598 - val_accuracy: 0.8071 - val_loss: 0.5028\n",
      "Epoch 29/50\n",
      "\u001b[1m224/224\u001b[0m \u001b[32m━━━━━━━━━━━━━━━━━━━━\u001b[0m\u001b[37m\u001b[0m \u001b[1m1s\u001b[0m 2ms/step - accuracy: 0.8227 - loss: 0.4562 - val_accuracy: 0.8196 - val_loss: 0.4886\n",
      "Epoch 30/50\n",
      "\u001b[1m224/224\u001b[0m \u001b[32m━━━━━━━━━━━━━━━━━━━━\u001b[0m\u001b[37m\u001b[0m \u001b[1m1s\u001b[0m 2ms/step - accuracy: 0.8244 - loss: 0.4557 - val_accuracy: 0.8193 - val_loss: 0.4688\n",
      "Epoch 31/50\n",
      "\u001b[1m224/224\u001b[0m \u001b[32m━━━━━━━━━━━━━━━━━━━━\u001b[0m\u001b[37m\u001b[0m \u001b[1m0s\u001b[0m 2ms/step - accuracy: 0.8216 - loss: 0.4573 - val_accuracy: 0.8248 - val_loss: 0.4663\n",
      "Epoch 32/50\n",
      "\u001b[1m224/224\u001b[0m \u001b[32m━━━━━━━━━━━━━━━━━━━━\u001b[0m\u001b[37m\u001b[0m \u001b[1m0s\u001b[0m 2ms/step - accuracy: 0.8294 - loss: 0.4422 - val_accuracy: 0.8165 - val_loss: 0.4923\n",
      "Epoch 33/50\n",
      "\u001b[1m224/224\u001b[0m \u001b[32m━━━━━━━━━━━━━━━━━━━━\u001b[0m\u001b[37m\u001b[0m \u001b[1m0s\u001b[0m 2ms/step - accuracy: 0.8259 - loss: 0.4482 - val_accuracy: 0.8192 - val_loss: 0.4729\n",
      "Epoch 34/50\n",
      "\u001b[1m224/224\u001b[0m \u001b[32m━━━━━━━━━━━━━━━━━━━━\u001b[0m\u001b[37m\u001b[0m \u001b[1m1s\u001b[0m 2ms/step - accuracy: 0.8279 - loss: 0.4421 - val_accuracy: 0.8126 - val_loss: 0.4750\n",
      "Epoch 35/50\n",
      "\u001b[1m224/224\u001b[0m \u001b[32m━━━━━━━━━━━━━━━━━━━━\u001b[0m\u001b[37m\u001b[0m \u001b[1m1s\u001b[0m 2ms/step - accuracy: 0.8290 - loss: 0.4420 - val_accuracy: 0.8182 - val_loss: 0.4812\n",
      "Epoch 36/50\n",
      "\u001b[1m224/224\u001b[0m \u001b[32m━━━━━━━━━━━━━━━━━━━━\u001b[0m\u001b[37m\u001b[0m \u001b[1m1s\u001b[0m 3ms/step - accuracy: 0.8288 - loss: 0.4382 - val_accuracy: 0.8093 - val_loss: 0.5011\n",
      "Epoch 37/50\n",
      "\u001b[1m224/224\u001b[0m \u001b[32m━━━━━━━━━━━━━━━━━━━━\u001b[0m\u001b[37m\u001b[0m \u001b[1m1s\u001b[0m 2ms/step - accuracy: 0.8342 - loss: 0.4293 - val_accuracy: 0.8279 - val_loss: 0.4701\n",
      "Epoch 38/50\n",
      "\u001b[1m224/224\u001b[0m \u001b[32m━━━━━━━━━━━━━━━━━━━━\u001b[0m\u001b[37m\u001b[0m \u001b[1m1s\u001b[0m 2ms/step - accuracy: 0.8354 - loss: 0.4261 - val_accuracy: 0.8214 - val_loss: 0.4679\n",
      "Epoch 39/50\n",
      "\u001b[1m224/224\u001b[0m \u001b[32m━━━━━━━━━━━━━━━━━━━━\u001b[0m\u001b[37m\u001b[0m \u001b[1m1s\u001b[0m 2ms/step - accuracy: 0.8324 - loss: 0.4323 - val_accuracy: 0.8227 - val_loss: 0.4665\n",
      "Epoch 40/50\n",
      "\u001b[1m224/224\u001b[0m \u001b[32m━━━━━━━━━━━━━━━━━━━━\u001b[0m\u001b[37m\u001b[0m \u001b[1m1s\u001b[0m 2ms/step - accuracy: 0.8355 - loss: 0.4273 - val_accuracy: 0.8376 - val_loss: 0.4393\n",
      "Epoch 41/50\n",
      "\u001b[1m224/224\u001b[0m \u001b[32m━━━━━━━━━━━━━━━━━━━━\u001b[0m\u001b[37m\u001b[0m \u001b[1m1s\u001b[0m 2ms/step - accuracy: 0.8398 - loss: 0.4189 - val_accuracy: 0.8256 - val_loss: 0.4575\n",
      "Epoch 42/50\n",
      "\u001b[1m224/224\u001b[0m \u001b[32m━━━━━━━━━━━━━━━━━━━━\u001b[0m\u001b[37m\u001b[0m \u001b[1m1s\u001b[0m 2ms/step - accuracy: 0.8356 - loss: 0.4224 - val_accuracy: 0.8333 - val_loss: 0.4494\n",
      "Epoch 43/50\n",
      "\u001b[1m224/224\u001b[0m \u001b[32m━━━━━━━━━━━━━━━━━━━━\u001b[0m\u001b[37m\u001b[0m \u001b[1m1s\u001b[0m 2ms/step - accuracy: 0.8456 - loss: 0.4055 - val_accuracy: 0.8320 - val_loss: 0.4486\n",
      "Epoch 44/50\n",
      "\u001b[1m224/224\u001b[0m \u001b[32m━━━━━━━━━━━━━━━━━━━━\u001b[0m\u001b[37m\u001b[0m \u001b[1m1s\u001b[0m 2ms/step - accuracy: 0.8423 - loss: 0.4105 - val_accuracy: 0.8336 - val_loss: 0.4489\n",
      "Epoch 45/50\n",
      "\u001b[1m224/224\u001b[0m \u001b[32m━━━━━━━━━━━━━━━━━━━━\u001b[0m\u001b[37m\u001b[0m \u001b[1m1s\u001b[0m 2ms/step - accuracy: 0.8411 - loss: 0.4083 - val_accuracy: 0.8360 - val_loss: 0.4437\n",
      "Epoch 46/50\n",
      "\u001b[1m224/224\u001b[0m \u001b[32m━━━━━━━━━━━━━━━━━━━━\u001b[0m\u001b[37m\u001b[0m \u001b[1m1s\u001b[0m 2ms/step - accuracy: 0.8461 - loss: 0.4041 - val_accuracy: 0.8284 - val_loss: 0.4605\n",
      "Epoch 47/50\n",
      "\u001b[1m224/224\u001b[0m \u001b[32m━━━━━━━━━━━━━━━━━━━━\u001b[0m\u001b[37m\u001b[0m \u001b[1m1s\u001b[0m 2ms/step - accuracy: 0.8467 - loss: 0.4008 - val_accuracy: 0.8407 - val_loss: 0.4374\n",
      "Epoch 48/50\n",
      "\u001b[1m224/224\u001b[0m \u001b[32m━━━━━━━━━━━━━━━━━━━━\u001b[0m\u001b[37m\u001b[0m \u001b[1m1s\u001b[0m 2ms/step - accuracy: 0.8436 - loss: 0.4052 - val_accuracy: 0.8328 - val_loss: 0.4426\n",
      "Epoch 49/50\n",
      "\u001b[1m224/224\u001b[0m \u001b[32m━━━━━━━━━━━━━━━━━━━━\u001b[0m\u001b[37m\u001b[0m \u001b[1m1s\u001b[0m 2ms/step - accuracy: 0.8470 - loss: 0.3920 - val_accuracy: 0.8324 - val_loss: 0.4412\n",
      "Epoch 50/50\n",
      "\u001b[1m224/224\u001b[0m \u001b[32m━━━━━━━━━━━━━━━━━━━━\u001b[0m\u001b[37m\u001b[0m \u001b[1m1s\u001b[0m 2ms/step - accuracy: 0.8449 - loss: 0.4035 - val_accuracy: 0.8442 - val_loss: 0.4337\n"
     ]
    },
    {
     "data": {
      "text/plain": [
       "<keras.src.callbacks.history.History at 0x1e097e3a480>"
      ]
     },
     "execution_count": 15,
     "metadata": {},
     "output_type": "execute_result"
    }
   ],
   "source": [
    "model.fit(X_train, to_categorical(y_train), epochs=50, validation_split=0.3, batch_size=128)\n"
   ]
  },
  {
   "cell_type": "code",
   "execution_count": 16,
   "metadata": {},
   "outputs": [
    {
     "name": "stdout",
     "output_type": "stream",
     "text": [
      "\u001b[1m427/427\u001b[0m \u001b[32m━━━━━━━━━━━━━━━━━━━━\u001b[0m\u001b[37m\u001b[0m \u001b[1m0s\u001b[0m 733us/step\n"
     ]
    }
   ],
   "source": [
    "y_pred = model.predict(X_test)"
   ]
  },
  {
   "cell_type": "code",
   "execution_count": 17,
   "metadata": {},
   "outputs": [],
   "source": [
    "predicted = np.argmax(y_pred, axis=1)"
   ]
  },
  {
   "cell_type": "code",
   "execution_count": 18,
   "metadata": {},
   "outputs": [
    {
     "name": "stdout",
     "output_type": "stream",
     "text": [
      "0.8519768209491675\n"
     ]
    }
   ],
   "source": [
    "from sklearn.metrics import classification_report\n",
    "print(accuracy_score(y_test,predicted))"
   ]
  },
  {
   "cell_type": "code",
   "execution_count": 19,
   "metadata": {},
   "outputs": [
    {
     "name": "stdout",
     "output_type": "stream",
     "text": [
      "              precision    recall  f1-score   support\n",
      "\n",
      "      Benign       0.93      0.95      0.94      2735\n",
      "  Defacement       0.79      0.73      0.76      2499\n",
      "     Malware       0.84      0.91      0.88      2834\n",
      "    Phishing       0.82      0.73      0.77      2477\n",
      "        Spam       0.86      0.90      0.88      3088\n",
      "\n",
      "    accuracy                           0.85     13633\n",
      "   macro avg       0.85      0.85      0.85     13633\n",
      "weighted avg       0.85      0.85      0.85     13633\n",
      "\n"
     ]
    }
   ],
   "source": [
    "target_names = ['Benign','Defacement','Malware','Phishing','Spam']\n",
    "print(classification_report(y_test, predicted, target_names=target_names))"
   ]
  },
  {
   "cell_type": "code",
   "execution_count": 26,
   "metadata": {},
   "outputs": [],
   "source": [
    "os.chdir(\"../\")\n",
    "os.chdir(\"models\")\n",
    "model.save(\"Model_v2.keras\")\n",
    "np.save('lblenc_v1.npy', encoder.classes_)\n",
    "scalerfile = 'scaler_v1.sav'\n",
    "pickle.dump(scaler, open(scalerfile, 'wb'))"
   ]
  },
  {
   "cell_type": "code",
   "execution_count": 27,
   "metadata": {},
   "outputs": [],
   "source": [
    "import pathlib"
   ]
  },
  {
   "cell_type": "code",
   "execution_count": 28,
   "metadata": {},
   "outputs": [
    {
     "name": "stderr",
     "output_type": "stream",
     "text": [
      "c:\\Users\\Kanav\\Documents\\urlclassifier\\.venv\\Lib\\site-packages\\keras\\src\\saving\\saving_lib.py:757: UserWarning: Skipping variable loading for optimizer 'rmsprop', because it has 14 variables whereas the saved optimizer has 2 variables. \n",
      "  saveable.load_own_variables(weights_store.get(inner_path))\n"
     ]
    },
    {
     "name": "stdout",
     "output_type": "stream",
     "text": [
      "INFO:tensorflow:Assets written to: C:\\Users\\Kanav\\AppData\\Local\\Temp\\tmpd9fkej86\\assets\n"
     ]
    },
    {
     "name": "stderr",
     "output_type": "stream",
     "text": [
      "INFO:tensorflow:Assets written to: C:\\Users\\Kanav\\AppData\\Local\\Temp\\tmpd9fkej86\\assets\n"
     ]
    },
    {
     "name": "stdout",
     "output_type": "stream",
     "text": [
      "Saved artifact at 'C:\\Users\\Kanav\\AppData\\Local\\Temp\\tmpd9fkej86'. The following endpoints are available:\n",
      "\n",
      "* Endpoint 'serve'\n",
      "  args_0 (POSITIONAL_ONLY): TensorSpec(shape=(None, 21), dtype=tf.float32, name='input_layer')\n",
      "Output Type:\n",
      "  TensorSpec(shape=(None, 5), dtype=tf.float32, name=None)\n",
      "Captures:\n",
      "  2064219102224: TensorSpec(shape=(), dtype=tf.resource, name=None)\n",
      "  2064153688400: TensorSpec(shape=(), dtype=tf.resource, name=None)\n",
      "  2064153687248: TensorSpec(shape=(), dtype=tf.resource, name=None)\n",
      "  2064153686480: TensorSpec(shape=(), dtype=tf.resource, name=None)\n",
      "  2064153689552: TensorSpec(shape=(), dtype=tf.resource, name=None)\n",
      "  2064153686096: TensorSpec(shape=(), dtype=tf.resource, name=None)\n",
      "  2064153687824: TensorSpec(shape=(), dtype=tf.resource, name=None)\n",
      "  2064153688592: TensorSpec(shape=(), dtype=tf.resource, name=None)\n",
      "  2064153688976: TensorSpec(shape=(), dtype=tf.resource, name=None)\n",
      "  2064153689360: TensorSpec(shape=(), dtype=tf.resource, name=None)\n",
      "  2064153689168: TensorSpec(shape=(), dtype=tf.resource, name=None)\n",
      "  2064160277712: TensorSpec(shape=(), dtype=tf.resource, name=None)\n"
     ]
    },
    {
     "data": {
      "text/plain": [
       "201136"
      ]
     },
     "execution_count": 28,
     "metadata": {},
     "output_type": "execute_result"
    }
   ],
   "source": [
    "\n",
    "model = ts.keras.models.load_model('Model_v2.keras')\n",
    "converter = ts.lite.TFLiteConverter.from_keras_model(model)\n",
    "tflite_model = converter.convert()\n",
    "open(\"tflite_model.tflite\", \"wb\").write(tflite_model)"
   ]
  },
  {
   "cell_type": "code",
   "execution_count": 29,
   "metadata": {},
   "outputs": [
    {
     "name": "stderr",
     "output_type": "stream",
     "text": [
      "c:\\Users\\Kanav\\Documents\\urlclassifier\\.venv\\Lib\\site-packages\\keras\\src\\saving\\saving_lib.py:757: UserWarning: Skipping variable loading for optimizer 'rmsprop', because it has 14 variables whereas the saved optimizer has 2 variables. \n",
      "  saveable.load_own_variables(weights_store.get(inner_path))\n"
     ]
    },
    {
     "name": "stdout",
     "output_type": "stream",
     "text": [
      "INFO:tensorflow:Assets written to: C:\\Users\\Kanav\\AppData\\Local\\Temp\\tmp74e8bpq3\\assets\n"
     ]
    },
    {
     "name": "stderr",
     "output_type": "stream",
     "text": [
      "INFO:tensorflow:Assets written to: C:\\Users\\Kanav\\AppData\\Local\\Temp\\tmp74e8bpq3\\assets\n"
     ]
    },
    {
     "name": "stdout",
     "output_type": "stream",
     "text": [
      "Saved artifact at 'C:\\Users\\Kanav\\AppData\\Local\\Temp\\tmp74e8bpq3'. The following endpoints are available:\n",
      "\n",
      "* Endpoint 'serve'\n",
      "  args_0 (POSITIONAL_ONLY): TensorSpec(shape=(None, 21), dtype=tf.float32, name='input_layer')\n",
      "Output Type:\n",
      "  TensorSpec(shape=(None, 5), dtype=tf.float32, name=None)\n",
      "Captures:\n",
      "  2064160290192: TensorSpec(shape=(), dtype=tf.resource, name=None)\n",
      "  2064160289808: TensorSpec(shape=(), dtype=tf.resource, name=None)\n",
      "  2064160290000: TensorSpec(shape=(), dtype=tf.resource, name=None)\n",
      "  2064160288848: TensorSpec(shape=(), dtype=tf.resource, name=None)\n",
      "  2064160288656: TensorSpec(shape=(), dtype=tf.resource, name=None)\n",
      "  2064160288080: TensorSpec(shape=(), dtype=tf.resource, name=None)\n",
      "  2064160287888: TensorSpec(shape=(), dtype=tf.resource, name=None)\n",
      "  2064160287312: TensorSpec(shape=(), dtype=tf.resource, name=None)\n",
      "  2064160287120: TensorSpec(shape=(), dtype=tf.resource, name=None)\n",
      "  2064160286544: TensorSpec(shape=(), dtype=tf.resource, name=None)\n",
      "  2064160286352: TensorSpec(shape=(), dtype=tf.resource, name=None)\n",
      "  2064160284816: TensorSpec(shape=(), dtype=tf.resource, name=None)\n"
     ]
    }
   ],
   "source": [
    "model = ts.keras.models.load_model('Model_v2.keras')\n",
    "converter = ts.lite.TFLiteConverter.from_keras_model(model)\n",
    "converter.optimizations = [ts.lite.Optimize.DEFAULT]\n",
    "tflite_quant_model = converter.convert()"
   ]
  },
  {
   "cell_type": "code",
   "execution_count": 30,
   "metadata": {},
   "outputs": [
    {
     "data": {
      "text/plain": [
       "61848"
      ]
     },
     "execution_count": 30,
     "metadata": {},
     "output_type": "execute_result"
    }
   ],
   "source": [
    "tflite_model_file = pathlib.Path('tflite_quant_model.tflite')\n",
    "tflite_model_file.write_bytes(tflite_quant_model)"
   ]
  },
  {
   "cell_type": "code",
   "execution_count": null,
   "metadata": {},
   "outputs": [],
   "source": []
  }
 ],
 "metadata": {
  "kernelspec": {
   "display_name": ".venv",
   "language": "python",
   "name": "python3"
  },
  "language_info": {
   "codemirror_mode": {
    "name": "ipython",
    "version": 3
   },
   "file_extension": ".py",
   "mimetype": "text/x-python",
   "name": "python",
   "nbconvert_exporter": "python",
   "pygments_lexer": "ipython3",
   "version": "3.12.4"
  },
  "toc": {
   "base_numbering": 1,
   "nav_menu": {},
   "number_sections": false,
   "sideBar": false,
   "skip_h1_title": false,
   "title_cell": "Table of Contents",
   "title_sidebar": "Contents",
   "toc_cell": false,
   "toc_position": {},
   "toc_section_display": false,
   "toc_window_display": false
  }
 },
 "nbformat": 4,
 "nbformat_minor": 5
}
