{
 "cells": [
  {
   "cell_type": "code",
   "execution_count": 1,
   "id": "33da28a8",
   "metadata": {},
   "outputs": [],
   "source": [
    "import os\n",
    "import pandas as pd\n",
    "import numpy as np\n",
    "from sklearn.preprocessing import LabelEncoder\n",
    "from sklearn.preprocessing import MinMaxScaler\n",
    "import tensorflow as tf\n",
    "import pickle\n",
    "\n",
    "os.chdir('C:/Users/Kanav/Documents/urlclassifier/scripts')\n",
    "import data_creation as d"
   ]
  },
  {
   "cell_type": "code",
   "execution_count": 2,
   "id": "78b7162b",
   "metadata": {},
   "outputs": [],
   "source": [
    "\n",
    "os.chdir('C:/Users/Kanav/Documents/urlclassifier/models')"
   ]
  },
  {
   "cell_type": "code",
   "execution_count": 3,
   "id": "6941a7d1",
   "metadata": {},
   "outputs": [],
   "source": [
    "order = ['bodyLength', 'bscr', 'dse', 'dsr', 'entropy', 'hasHttp', 'hasHttps',\n",
    "       'has_ip', 'numDigits', 'numImages', 'numLinks', 'numParams',\n",
    "       'numTitles', 'num_%20', 'num_@', 'sbr', 'scriptLength', 'specialChars',\n",
    "       'sscr', 'urlIsLive', 'urlLength']"
   ]
  },
  {
   "cell_type": "code",
   "execution_count": 6,
   "id": "2ff6bed3",
   "metadata": {},
   "outputs": [],
   "source": [
    "a = d.UrlFeaturizer('http://astore.amazon.co.uk/allezvinsfrenchr/detail/1904010202/026-8324244-9330038').run()\n",
    "test = []\n",
    "for i in order:\n",
    "    test.append(a[i])\n",
    "encoder = LabelEncoder()\n",
    "encoder.classes_ = np.load('lblenc_v1.npy',allow_pickle=True)\n",
    "scalerfile = 'scaler_v1.sav'\n",
    "scaler = pickle.load(open(scalerfile, 'rb'))"
   ]
  },
  {
   "cell_type": "code",
   "execution_count": 7,
   "id": "43114c47",
   "metadata": {},
   "outputs": [
    {
     "name": "stderr",
     "output_type": "stream",
     "text": [
      "C:\\Users\\Kanav\\AppData\\Local\\Temp\\ipykernel_8876\\1755746282.py:1: FutureWarning: Downcasting behavior in `replace` is deprecated and will be removed in a future version. To retain the old behavior, explicitly call `result.infer_objects(copy=False)`. To opt-in to the future behavior, set `pd.set_option('future.no_silent_downcasting', True)`\n",
      "  test = pd.DataFrame(test).replace(True,1).replace(False,0).to_numpy(dtype=\"float32\").reshape(1,-1)\n",
      "c:\\Users\\Kanav\\Documents\\urlclassifier\\.venv\\Lib\\site-packages\\sklearn\\utils\\validation.py:2739: UserWarning: X does not have valid feature names, but MinMaxScaler was fitted with feature names\n",
      "  warnings.warn(\n"
     ]
    }
   ],
   "source": [
    "test = pd.DataFrame(test).replace(True,1).replace(False,0).to_numpy(dtype=\"float32\").reshape(1,-1)\n",
    "test = scaler.transform(test)"
   ]
  },
  {
   "cell_type": "code",
   "execution_count": 11,
   "id": "73a3ea3f",
   "metadata": {},
   "outputs": [],
   "source": [
    "# Load the TFLite model and allocate tensors.\n",
    "interpreter = tf.lite.Interpreter(model_path=\"tflite_quant_model.tflite\")\n",
    "interpreter.allocate_tensors()\n",
    "\n",
    "# Get input and output tensors.\n",
    "input_details = interpreter.get_input_details()\n",
    "output_details = interpreter.get_output_details()\n",
    "\n",
    "interpreter.set_tensor(input_details[0]['index'], test)\n",
    "\n",
    "interpreter.invoke()\n",
    "\n",
    "# The function `get_tensor()` returns a copy of the tensor data.\n",
    "# Use `tensor()` in order to get a pointer to the tensor.\n",
    "output_data = interpreter.get_tensor(output_details[0]['index'])\n",
    "predicted = np.argmax(output_data,axis=1)"
   ]
  },
  {
   "cell_type": "code",
   "execution_count": 12,
   "id": "03aac0a5",
   "metadata": {},
   "outputs": [
    {
     "name": "stdout",
     "output_type": "stream",
     "text": [
      "Spam\n"
     ]
    }
   ],
   "source": [
    "print(encoder.inverse_transform(predicted)[0])"
   ]
  }
 ],
 "metadata": {
  "kernelspec": {
   "display_name": ".venv",
   "language": "python",
   "name": "python3"
  },
  "language_info": {
   "codemirror_mode": {
    "name": "ipython",
    "version": 3
   },
   "file_extension": ".py",
   "mimetype": "text/x-python",
   "name": "python",
   "nbconvert_exporter": "python",
   "pygments_lexer": "ipython3",
   "version": "3.12.4"
  },
  "toc": {
   "base_numbering": 1,
   "nav_menu": {},
   "number_sections": false,
   "sideBar": false,
   "skip_h1_title": false,
   "title_cell": "Table of Contents",
   "title_sidebar": "Contents",
   "toc_cell": false,
   "toc_position": {},
   "toc_section_display": false,
   "toc_window_display": false
  }
 },
 "nbformat": 4,
 "nbformat_minor": 5
}
