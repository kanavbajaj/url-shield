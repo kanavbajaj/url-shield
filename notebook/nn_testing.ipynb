{
 "cells": [
  {
   "cell_type": "code",
   "execution_count": 6,
   "id": "f9e163c2",
   "metadata": {},
   "outputs": [
    {
     "name": "stdout",
     "output_type": "stream",
     "text": [
      "\u001b[1m1/1\u001b[0m \u001b[32m━━━━━━━━━━━━━━━━━━━━\u001b[0m\u001b[37m\u001b[0m \u001b[1m0s\u001b[0m 68ms/step\n",
      "Spam\n"
     ]
    },
    {
     "name": "stderr",
     "output_type": "stream",
     "text": [
      "c:\\Users\\Kanav\\Documents\\urlclassifier\\.venv\\Lib\\site-packages\\keras\\src\\saving\\saving_lib.py:757: UserWarning: Skipping variable loading for optimizer 'rmsprop', because it has 14 variables whereas the saved optimizer has 2 variables. \n",
      "  saveable.load_own_variables(weights_store.get(inner_path))\n",
      "c:\\Users\\Kanav\\Documents\\urlclassifier\\.venv\\Lib\\site-packages\\sklearn\\utils\\validation.py:2739: UserWarning: X does not have valid feature names, but MinMaxScaler was fitted with feature names\n",
      "  warnings.warn(\n"
     ]
    }
   ],
   "source": [
    "import os\n",
    "import pandas as pd\n",
    "import numpy as np\n",
    "from sklearn.preprocessing import LabelEncoder\n",
    "from sklearn.preprocessing import MinMaxScaler\n",
    "import tensorflow as tf\n",
    "import pickle\n",
    "os.chdir(\"../\")\n",
    "os.chdir(\"scripts\")\n",
    "import data_creation as d\n",
    "from keras import models\n",
    "os.chdir(\"../\")\n",
    "os.chdir(\"models/\")\n",
    "\n",
    "\n",
    "order = ['bodyLength', 'bscr', 'dse', 'dsr', 'entropy', 'hasHttp', 'hasHttps',\n",
    "       'has_ip', 'numDigits', 'numImages', 'numLinks', 'numParams',\n",
    "       'numTitles', 'num_%20', 'num_@', 'sbr', 'scriptLength', 'specialChars',\n",
    "       'sscr', 'urlIsLive', 'urlLength']\n",
    "\n",
    "if __name__ == '__main__':\n",
    "\ta = d.UrlFeaturizer('http://astore.amazon.co.uk/allezvinsfrenchr/detail/1904010202/026-8324244-9330038').run()\n",
    "\ttest = []\n",
    "\tfor i in order:\n",
    "\t    test.append(a[i])\n",
    "\tencoder = LabelEncoder()\n",
    "\tencoder.classes_ = np.load('lblenc_v1.npy',allow_pickle=True)\n",
    "\tscalerfile = 'scaler_v1.sav'\n",
    "\tscaler = pickle.load(open(scalerfile, 'rb'))\n",
    "\tmodel = models.load_model(\"Model_v2.keras\")#, custom_objects={'f1_m':f1_m,\"precision_m\":precision_m, \"recall_m\":recall_m})\n",
    "\tpredicted = np.argmax(model.predict(scaler.transform(np.array(test).reshape(1,-1))),axis=1)\n",
    "\tprint(encoder.inverse_transform(predicted)[0])"
   ]
  }
 ],
 "metadata": {
  "kernelspec": {
   "display_name": ".venv",
   "language": "python",
   "name": "python3"
  },
  "language_info": {
   "codemirror_mode": {
    "name": "ipython",
    "version": 3
   },
   "file_extension": ".py",
   "mimetype": "text/x-python",
   "name": "python",
   "nbconvert_exporter": "python",
   "pygments_lexer": "ipython3",
   "version": "3.12.4"
  },
  "toc": {
   "base_numbering": 1,
   "nav_menu": {},
   "number_sections": false,
   "sideBar": false,
   "skip_h1_title": false,
   "title_cell": "Table of Contents",
   "title_sidebar": "Contents",
   "toc_cell": false,
   "toc_position": {},
   "toc_section_display": false,
   "toc_window_display": false
  }
 },
 "nbformat": 4,
 "nbformat_minor": 5
}
